{
 "cells": [
  {
   "cell_type": "code",
   "execution_count": 49,
   "id": "c96d1c8a-73f4-4507-8dff-f790b4016c0b",
   "metadata": {},
   "outputs": [],
   "source": [
    "import pandas as pd\n",
    "import requests\n",
    "import json\n",
    "from dateutil import parser"
   ]
  },
  {
   "cell_type": "code",
   "execution_count": 6,
   "id": "214d9946-8595-4167-a5e5-87cb89010df4",
   "metadata": {},
   "outputs": [],
   "source": [
    "OANDA_URL = \"https://api-fxpractice.oanda.com/v3\"\n",
    "API_KEY = \"83408b92cdfee022ba7a5afac8696138-969e18ef786964fa39f81a43f94c0ac3\"\n",
    "ID = \"101-004-30368907-001\""
   ]
  },
  {
   "cell_type": "code",
   "execution_count": 7,
   "id": "e8232f09-e01a-4b0c-8104-f6a8972e4883",
   "metadata": {},
   "outputs": [],
   "source": [
    "session = requests.Session()"
   ]
  },
  {
   "cell_type": "code",
   "execution_count": 8,
   "id": "b7d0c544-80ca-4178-a72b-6713aa44c38b",
   "metadata": {},
   "outputs": [],
   "source": [
    "session.headers.update({\n",
    "    \"Authorization\": f\"Bearer {API_KEY}\",\n",
    "    \"Content-Type\": \"application/json\"\n",
    "})"
   ]
  },
  {
   "cell_type": "code",
   "execution_count": 11,
   "id": "73f56f10-1b8d-45b6-ad76-ed05482b552d",
   "metadata": {},
   "outputs": [],
   "source": [
    "params = dict(\n",
    "    count = 10,\n",
    "    granularity = \"M5\"\n",
    ")"
   ]
  },
  {
   "cell_type": "code",
   "execution_count": 12,
   "id": "f2524059-60aa-4c0d-9623-241862f9f6b4",
   "metadata": {},
   "outputs": [],
   "source": [
    "url = f\"{OANDA_URL}/instruments/USD_JPY/candles\""
   ]
  },
  {
   "cell_type": "code",
   "execution_count": 17,
   "id": "d9869933-9c6f-459f-8a69-50d88440be3e",
   "metadata": {},
   "outputs": [],
   "source": [
    "response = session.get(url, params=params, data=None, headers=None)"
   ]
  },
  {
   "cell_type": "code",
   "execution_count": 18,
   "id": "cdc07862-738b-44db-9c8e-5b53e4d4e89f",
   "metadata": {},
   "outputs": [
    {
     "data": {
      "text/plain": [
       "{'instrument': 'USD_JPY',\n",
       " 'granularity': 'M5',\n",
       " 'candles': [{'complete': True,\n",
       "   'volume': 1390,\n",
       "   'time': '2024-11-18T07:25:00.000000000Z',\n",
       "   'mid': {'o': '154.743', 'h': '154.746', 'l': '154.696', 'c': '154.698'}},\n",
       "  {'complete': True,\n",
       "   'volume': 1688,\n",
       "   'time': '2024-11-18T07:30:00.000000000Z',\n",
       "   'mid': {'o': '154.698', 'h': '154.762', 'l': '154.684', 'c': '154.714'}},\n",
       "  {'complete': True,\n",
       "   'volume': 1660,\n",
       "   'time': '2024-11-18T07:35:00.000000000Z',\n",
       "   'mid': {'o': '154.712', 'h': '154.768', 'l': '154.690', 'c': '154.759'}},\n",
       "  {'complete': True,\n",
       "   'volume': 1203,\n",
       "   'time': '2024-11-18T07:40:00.000000000Z',\n",
       "   'mid': {'o': '154.756', 'h': '154.767', 'l': '154.694', 'c': '154.704'}},\n",
       "  {'complete': True,\n",
       "   'volume': 1605,\n",
       "   'time': '2024-11-18T07:45:00.000000000Z',\n",
       "   'mid': {'o': '154.704', 'h': '154.704', 'l': '154.581', 'c': '154.582'}},\n",
       "  {'complete': True,\n",
       "   'volume': 1934,\n",
       "   'time': '2024-11-18T07:50:00.000000000Z',\n",
       "   'mid': {'o': '154.582', 'h': '154.584', 'l': '154.476', 'c': '154.529'}},\n",
       "  {'complete': True,\n",
       "   'volume': 2400,\n",
       "   'time': '2024-11-18T07:55:00.000000000Z',\n",
       "   'mid': {'o': '154.532', 'h': '154.618', 'l': '154.498', 'c': '154.570'}},\n",
       "  {'complete': True,\n",
       "   'volume': 2768,\n",
       "   'time': '2024-11-18T08:00:00.000000000Z',\n",
       "   'mid': {'o': '154.568', 'h': '154.668', 'l': '154.504', 'c': '154.650'}},\n",
       "  {'complete': True,\n",
       "   'volume': 2049,\n",
       "   'time': '2024-11-18T08:05:00.000000000Z',\n",
       "   'mid': {'o': '154.647', 'h': '154.713', 'l': '154.580', 'c': '154.710'}},\n",
       "  {'complete': False,\n",
       "   'volume': 65,\n",
       "   'time': '2024-11-18T08:10:00.000000000Z',\n",
       "   'mid': {'o': '154.707', 'h': '154.708', 'l': '154.695', 'c': '154.696'}}]}"
      ]
     },
     "execution_count": 18,
     "metadata": {},
     "output_type": "execute_result"
    }
   ],
   "source": [
    "response.json()"
   ]
  },
  {
   "cell_type": "code",
   "execution_count": 22,
   "id": "d03d3067-547a-4683-ba64-c0a6933f2ffd",
   "metadata": {},
   "outputs": [],
   "source": [
    "def get_instruments():\n",
    "    ins_url = f\"{OANDA_URL}/accounts/{ID}/instruments\"\n",
    "    res = session.get(ins_url, data=None, headers=None)\n",
    "    return res.json()"
   ]
  },
  {
   "cell_type": "code",
   "execution_count": 23,
   "id": "08a19c38-e81d-4f9d-8c93-07e042eb2362",
   "metadata": {},
   "outputs": [],
   "source": [
    "res = get_instruments()"
   ]
  },
  {
   "cell_type": "code",
   "execution_count": 28,
   "id": "8b467854-bf26-408f-85ab-64b817ea2346",
   "metadata": {},
   "outputs": [],
   "source": [
    "instruments = res['instruments']"
   ]
  },
  {
   "cell_type": "code",
   "execution_count": 30,
   "id": "7f82e98f-4563-42c2-a459-30b9e5af36bc",
   "metadata": {},
   "outputs": [
    {
     "data": {
      "text/plain": [
       "dict_keys(['name', 'type', 'displayName', 'pipLocation', 'displayPrecision', 'tradeUnitsPrecision', 'minimumTradeSize', 'maximumTrailingStopDistance', 'minimumTrailingStopDistance', 'maximumPositionSize', 'maximumOrderUnits', 'marginRate', 'guaranteedStopLossOrderMode', 'tags', 'financing'])"
      ]
     },
     "execution_count": 30,
     "metadata": {},
     "output_type": "execute_result"
    }
   ],
   "source": [
    "instruments[0].keys()"
   ]
  },
  {
   "cell_type": "code",
   "execution_count": 31,
   "id": "9de4d226-b739-4912-a41e-1e70139deb51",
   "metadata": {},
   "outputs": [],
   "source": [
    "key_i = [\"name\", \"type\", \"displayName\", \"pipLocation\", \"displayPrecision\", \"tradeUnitsPrecision\", \"marginRate\"]"
   ]
  },
  {
   "cell_type": "code",
   "execution_count": 33,
   "id": "16e10d1f-d3cf-4a93-84b2-f7845d4b06c5",
   "metadata": {},
   "outputs": [],
   "source": [
    "instruments_dict = {}\n",
    "for i in instruments:\n",
    "    key = i['name']\n",
    "    instruments_dict[key] = {k: i[k] for k in key_i}"
   ]
  },
  {
   "cell_type": "code",
   "execution_count": 36,
   "id": "d80fe609-b2ee-47f8-9f1a-0af4d0ddd953",
   "metadata": {},
   "outputs": [],
   "source": [
    "with open (\"../data/instruments.json\", \"w\") as file: \n",
    "    file.write(json.dumps(instruments_dict, indent=2))"
   ]
  },
  {
   "cell_type": "code",
   "execution_count": 44,
   "id": "8f9dd1e6-8bce-4b2d-b6ef-c5540012f35b",
   "metadata": {},
   "outputs": [],
   "source": [
    "def get_candles(pair_name, count=10, granularity=\"M5\"):\n",
    "    url = f\"{OANDA_URL}/instruments/{pair_name}/candles\"\n",
    "    params = dict(\n",
    "        count=count,\n",
    "        granularity=granularity,\n",
    "        price=\"MBA\"\n",
    "    )\n",
    "    res = session.get(url, params=params, data=None, headers=None)\n",
    "    data = res.json()\n",
    "\n",
    "    if res.status_code == 200:\n",
    "        if 'candles' not in data:\n",
    "            data=[]\n",
    "        else:\n",
    "            data = data['candles']\n",
    "\n",
    "    return res.status_code, data\n",
    "    "
   ]
  },
  {
   "cell_type": "code",
   "execution_count": 50,
   "id": "67aeb890-4906-42ac-bd91-84b76ad84231",
   "metadata": {},
   "outputs": [],
   "source": [
    "code, data = get_candles(pair_name = \"USD_JPY\", count=500,granularity=\"M5\")"
   ]
  },
  {
   "cell_type": "code",
   "execution_count": 51,
   "id": "8802650f-60e0-4277-aac4-7c2fb3f934bf",
   "metadata": {},
   "outputs": [
    {
     "data": {
      "text/plain": [
       "{'complete': True,\n",
       " 'volume': 1454,\n",
       " 'time': '2024-11-18T08:45:00.000000000Z',\n",
       " 'bid': {'o': '154.841', 'h': '154.901', 'l': '154.819', 'c': '154.879'},\n",
       " 'mid': {'o': '154.849', 'h': '154.910', 'l': '154.826', 'c': '154.888'},\n",
       " 'ask': {'o': '154.857', 'h': '154.919', 'l': '154.833', 'c': '154.898'}}"
      ]
     },
     "execution_count": 51,
     "metadata": {},
     "output_type": "execute_result"
    }
   ],
   "source": [
    "data[0]"
   ]
  },
  {
   "cell_type": "code",
   "execution_count": 66,
   "id": "757894de-900a-44ae-ae59-786edb0c38e3",
   "metadata": {},
   "outputs": [],
   "source": [
    "def create_data_frame(data):\n",
    "    if len(data) == 0:\n",
    "        return pd.DataFrame.empty\n",
    "    \n",
    "    prices = ['mid', 'bid', 'ask']\n",
    "    ohlc = ['o','h','l','c']\n",
    "    final_data = []\n",
    "    for candle in data:\n",
    "        if candle['complete'] == False:\n",
    "            continue\n",
    "        new_dict = {}\n",
    "        new_dict['time'] = parser.parse(candle['time'])\n",
    "        new_dict['volume'] = candle['volume']\n",
    "        for p in prices:\n",
    "            for o in ohlc:\n",
    "                new_dict[f\"{p}_{o}\"] = float(candle[p][o])\n",
    "        \n",
    "        final_data.append(new_dict)\n",
    "    df = pd.DataFrame.from_dict(final_data)\n",
    "    return df"
   ]
  },
  {
   "cell_type": "code",
   "execution_count": 68,
   "id": "7118fbbd-c2ad-425d-a056-26883ea36dc5",
   "metadata": {},
   "outputs": [],
   "source": [
    "def create_data_file(pair_name, count=10, granularity=\"M5\"):\n",
    "    code, data = get_candles(pair_name, count=count, granularity = granularity)\n",
    "\n",
    "    if code != 200:\n",
    "        print(\"Failed to fetch data: \", pair_name)\n",
    "    elif len(data) == 0:\n",
    "        print(\"No data: \", pair_name)\n",
    "\n",
    "    candles_df = create_data_frame(data)\n",
    "    candles_df.to_pickle(f\"../data/{pair_name}_{granularity}.pkl\")\n",
    "\n",
    "    print(\"Successful\")\n",
    "            "
   ]
  },
  {
   "cell_type": "code",
   "execution_count": 71,
   "id": "d9dd18f9-ca42-44e2-9b91-aec0e470ade2",
   "metadata": {},
   "outputs": [
    {
     "name": "stdout",
     "output_type": "stream",
     "text": [
      "Successful\n"
     ]
    }
   ],
   "source": [
    "create_data_file(\"EUR_USD\",count=500, granularity=\"H4\")"
   ]
  },
  {
   "cell_type": "code",
   "execution_count": 65,
   "id": "81a8d166-1337-4ae8-832a-239c176b6e29",
   "metadata": {},
   "outputs": [
    {
     "data": {
      "text/html": [
       "<div>\n",
       "<style scoped>\n",
       "    .dataframe tbody tr th:only-of-type {\n",
       "        vertical-align: middle;\n",
       "    }\n",
       "\n",
       "    .dataframe tbody tr th {\n",
       "        vertical-align: top;\n",
       "    }\n",
       "\n",
       "    .dataframe thead th {\n",
       "        text-align: right;\n",
       "    }\n",
       "</style>\n",
       "<table border=\"1\" class=\"dataframe\">\n",
       "  <thead>\n",
       "    <tr style=\"text-align: right;\">\n",
       "      <th></th>\n",
       "      <th>time</th>\n",
       "      <th>volume</th>\n",
       "      <th>mid_o</th>\n",
       "      <th>mid_h</th>\n",
       "      <th>mid_l</th>\n",
       "      <th>mid_c</th>\n",
       "      <th>bid_o</th>\n",
       "      <th>bid_h</th>\n",
       "      <th>bid_l</th>\n",
       "      <th>bid_c</th>\n",
       "      <th>ask_o</th>\n",
       "      <th>ask_h</th>\n",
       "      <th>ask_l</th>\n",
       "      <th>ask_c</th>\n",
       "    </tr>\n",
       "  </thead>\n",
       "  <tbody>\n",
       "    <tr>\n",
       "      <th>0</th>\n",
       "      <td>2024-11-18 08:45:00+00:00</td>\n",
       "      <td>1454</td>\n",
       "      <td>154.849</td>\n",
       "      <td>154.910</td>\n",
       "      <td>154.826</td>\n",
       "      <td>154.888</td>\n",
       "      <td>154.841</td>\n",
       "      <td>154.901</td>\n",
       "      <td>154.819</td>\n",
       "      <td>154.879</td>\n",
       "      <td>154.857</td>\n",
       "      <td>154.919</td>\n",
       "      <td>154.833</td>\n",
       "      <td>154.898</td>\n",
       "    </tr>\n",
       "    <tr>\n",
       "      <th>1</th>\n",
       "      <td>2024-11-18 08:50:00+00:00</td>\n",
       "      <td>1689</td>\n",
       "      <td>154.888</td>\n",
       "      <td>154.923</td>\n",
       "      <td>154.842</td>\n",
       "      <td>154.896</td>\n",
       "      <td>154.878</td>\n",
       "      <td>154.916</td>\n",
       "      <td>154.833</td>\n",
       "      <td>154.887</td>\n",
       "      <td>154.898</td>\n",
       "      <td>154.931</td>\n",
       "      <td>154.851</td>\n",
       "      <td>154.905</td>\n",
       "    </tr>\n",
       "    <tr>\n",
       "      <th>2</th>\n",
       "      <td>2024-11-18 08:55:00+00:00</td>\n",
       "      <td>1529</td>\n",
       "      <td>154.898</td>\n",
       "      <td>154.956</td>\n",
       "      <td>154.898</td>\n",
       "      <td>154.955</td>\n",
       "      <td>154.890</td>\n",
       "      <td>154.949</td>\n",
       "      <td>154.890</td>\n",
       "      <td>154.948</td>\n",
       "      <td>154.907</td>\n",
       "      <td>154.964</td>\n",
       "      <td>154.907</td>\n",
       "      <td>154.962</td>\n",
       "    </tr>\n",
       "    <tr>\n",
       "      <th>3</th>\n",
       "      <td>2024-11-18 09:00:00+00:00</td>\n",
       "      <td>1468</td>\n",
       "      <td>154.956</td>\n",
       "      <td>154.974</td>\n",
       "      <td>154.826</td>\n",
       "      <td>154.850</td>\n",
       "      <td>154.948</td>\n",
       "      <td>154.967</td>\n",
       "      <td>154.817</td>\n",
       "      <td>154.841</td>\n",
       "      <td>154.964</td>\n",
       "      <td>154.981</td>\n",
       "      <td>154.833</td>\n",
       "      <td>154.860</td>\n",
       "    </tr>\n",
       "    <tr>\n",
       "      <th>4</th>\n",
       "      <td>2024-11-18 09:05:00+00:00</td>\n",
       "      <td>1855</td>\n",
       "      <td>154.850</td>\n",
       "      <td>154.862</td>\n",
       "      <td>154.792</td>\n",
       "      <td>154.814</td>\n",
       "      <td>154.841</td>\n",
       "      <td>154.852</td>\n",
       "      <td>154.783</td>\n",
       "      <td>154.804</td>\n",
       "      <td>154.859</td>\n",
       "      <td>154.872</td>\n",
       "      <td>154.800</td>\n",
       "      <td>154.823</td>\n",
       "    </tr>\n",
       "  </tbody>\n",
       "</table>\n",
       "</div>"
      ],
      "text/plain": [
       "                       time  volume    mid_o    mid_h    mid_l    mid_c  \\\n",
       "0 2024-11-18 08:45:00+00:00    1454  154.849  154.910  154.826  154.888   \n",
       "1 2024-11-18 08:50:00+00:00    1689  154.888  154.923  154.842  154.896   \n",
       "2 2024-11-18 08:55:00+00:00    1529  154.898  154.956  154.898  154.955   \n",
       "3 2024-11-18 09:00:00+00:00    1468  154.956  154.974  154.826  154.850   \n",
       "4 2024-11-18 09:05:00+00:00    1855  154.850  154.862  154.792  154.814   \n",
       "\n",
       "     bid_o    bid_h    bid_l    bid_c    ask_o    ask_h    ask_l    ask_c  \n",
       "0  154.841  154.901  154.819  154.879  154.857  154.919  154.833  154.898  \n",
       "1  154.878  154.916  154.833  154.887  154.898  154.931  154.851  154.905  \n",
       "2  154.890  154.949  154.890  154.948  154.907  154.964  154.907  154.962  \n",
       "3  154.948  154.967  154.817  154.841  154.964  154.981  154.833  154.860  \n",
       "4  154.841  154.852  154.783  154.804  154.859  154.872  154.800  154.823  "
      ]
     },
     "execution_count": 65,
     "metadata": {},
     "output_type": "execute_result"
    }
   ],
   "source": []
  },
  {
   "cell_type": "code",
   "execution_count": null,
   "id": "bb0ef03a-b1f1-41cc-aa39-91aefb16bd60",
   "metadata": {},
   "outputs": [],
   "source": [
    "def "
   ]
  }
 ],
 "metadata": {
  "kernelspec": {
   "display_name": "Python 3 (ipykernel)",
   "language": "python",
   "name": "python3"
  },
  "language_info": {
   "codemirror_mode": {
    "name": "ipython",
    "version": 3
   },
   "file_extension": ".py",
   "mimetype": "text/x-python",
   "name": "python",
   "nbconvert_exporter": "python",
   "pygments_lexer": "ipython3",
   "version": "3.12.3"
  }
 },
 "nbformat": 4,
 "nbformat_minor": 5
}
