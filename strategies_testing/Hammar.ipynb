{
 "cells": [
  {
   "cell_type": "code",
   "execution_count": 3,
   "id": "f7cdcaeb",
   "metadata": {},
   "outputs": [],
   "source": [
    "import sys\n",
    "sys.path.append('../')"
   ]
  },
  {
   "cell_type": "code",
   "execution_count": 4,
   "id": "7a028402-eb9e-4a2a-a6a3-aefe9f43287c",
   "metadata": {},
   "outputs": [],
   "source": [
    "import pandas as pd\n",
    "import numpy as np\n",
    "import matplotlib.pyplot as plt\n",
    "from exploration.plotting import CandlePlot"
   ]
  },
  {
   "cell_type": "code",
   "execution_count": 5,
   "id": "175369e6",
   "metadata": {},
   "outputs": [],
   "source": [
    "def data_load(path):\n",
    "    data = pd.read_pickle(path)\n",
    "    data['spread'] = data['ask_o'] - data['bid_o']\n",
    "    data.drop(columns=['bid_o', 'ask_o', 'bid_h', 'ask_h', 'bid_l', 'ask_l', 'bid_c', 'ask_c'], inplace=True)\n",
    "\n",
    "    return data"
   ]
  },
  {
   "cell_type": "code",
   "execution_count": 6,
   "id": "41ea072b",
   "metadata": {},
   "outputs": [],
   "source": [
    "BUY = 1\n",
    "NONE = 0\n",
    "SELL = -1"
   ]
  },
  {
   "cell_type": "code",
   "execution_count": 7,
   "id": "f732f72c",
   "metadata": {},
   "outputs": [],
   "source": [
    "df = data_load('../data/USD_JPY_H1.pkl')"
   ]
  },
  {
   "cell_type": "code",
   "execution_count": 8,
   "id": "550e7f77",
   "metadata": {},
   "outputs": [
    {
     "data": {
      "text/plain": [
       "Index(['time', 'volume', 'mid_o', 'mid_h', 'mid_l', 'mid_c', 'spread'], dtype='object')"
      ]
     },
     "execution_count": 8,
     "metadata": {},
     "output_type": "execute_result"
    }
   ],
   "source": [
    "df.columns"
   ]
  },
  {
   "cell_type": "code",
   "execution_count": 9,
   "id": "a3b300d2",
   "metadata": {},
   "outputs": [
    {
     "data": {
      "text/html": [
       "<div>\n",
       "<style scoped>\n",
       "    .dataframe tbody tr th:only-of-type {\n",
       "        vertical-align: middle;\n",
       "    }\n",
       "\n",
       "    .dataframe tbody tr th {\n",
       "        vertical-align: top;\n",
       "    }\n",
       "\n",
       "    .dataframe thead th {\n",
       "        text-align: right;\n",
       "    }\n",
       "</style>\n",
       "<table border=\"1\" class=\"dataframe\">\n",
       "  <thead>\n",
       "    <tr style=\"text-align: right;\">\n",
       "      <th></th>\n",
       "      <th>time</th>\n",
       "      <th>volume</th>\n",
       "      <th>mid_o</th>\n",
       "      <th>mid_h</th>\n",
       "      <th>mid_l</th>\n",
       "      <th>mid_c</th>\n",
       "      <th>spread</th>\n",
       "    </tr>\n",
       "  </thead>\n",
       "  <tbody>\n",
       "    <tr>\n",
       "      <th>0</th>\n",
       "      <td>2019-01-01 22:00:00+00:00</td>\n",
       "      <td>482</td>\n",
       "      <td>109.590</td>\n",
       "      <td>109.698</td>\n",
       "      <td>109.590</td>\n",
       "      <td>109.684</td>\n",
       "      <td>0.100</td>\n",
       "    </tr>\n",
       "    <tr>\n",
       "      <th>1</th>\n",
       "      <td>2019-01-01 23:00:00+00:00</td>\n",
       "      <td>621</td>\n",
       "      <td>109.681</td>\n",
       "      <td>109.726</td>\n",
       "      <td>109.648</td>\n",
       "      <td>109.672</td>\n",
       "      <td>0.026</td>\n",
       "    </tr>\n",
       "    <tr>\n",
       "      <th>2</th>\n",
       "      <td>2019-01-02 00:00:00+00:00</td>\n",
       "      <td>796</td>\n",
       "      <td>109.674</td>\n",
       "      <td>109.682</td>\n",
       "      <td>109.533</td>\n",
       "      <td>109.629</td>\n",
       "      <td>0.016</td>\n",
       "    </tr>\n",
       "    <tr>\n",
       "      <th>3</th>\n",
       "      <td>2019-01-02 01:00:00+00:00</td>\n",
       "      <td>717</td>\n",
       "      <td>109.626</td>\n",
       "      <td>109.676</td>\n",
       "      <td>109.584</td>\n",
       "      <td>109.598</td>\n",
       "      <td>0.016</td>\n",
       "    </tr>\n",
       "    <tr>\n",
       "      <th>4</th>\n",
       "      <td>2019-01-02 02:00:00+00:00</td>\n",
       "      <td>1181</td>\n",
       "      <td>109.600</td>\n",
       "      <td>109.613</td>\n",
       "      <td>109.338</td>\n",
       "      <td>109.412</td>\n",
       "      <td>0.015</td>\n",
       "    </tr>\n",
       "  </tbody>\n",
       "</table>\n",
       "</div>"
      ],
      "text/plain": [
       "                       time  volume    mid_o    mid_h    mid_l    mid_c  \\\n",
       "0 2019-01-01 22:00:00+00:00     482  109.590  109.698  109.590  109.684   \n",
       "1 2019-01-01 23:00:00+00:00     621  109.681  109.726  109.648  109.672   \n",
       "2 2019-01-02 00:00:00+00:00     796  109.674  109.682  109.533  109.629   \n",
       "3 2019-01-02 01:00:00+00:00     717  109.626  109.676  109.584  109.598   \n",
       "4 2019-01-02 02:00:00+00:00    1181  109.600  109.613  109.338  109.412   \n",
       "\n",
       "   spread  \n",
       "0   0.100  \n",
       "1   0.026  \n",
       "2   0.016  \n",
       "3   0.016  \n",
       "4   0.015  "
      ]
     },
     "execution_count": 9,
     "metadata": {},
     "output_type": "execute_result"
    }
   ],
   "source": [
    "df.head()"
   ]
  },
  {
   "cell_type": "code",
   "execution_count": 10,
   "id": "d585d94a",
   "metadata": {},
   "outputs": [
    {
     "data": {
      "text/plain": [
       "count    36845.000000\n",
       "mean         0.019398\n",
       "std          0.015903\n",
       "min          0.010000\n",
       "25%          0.013000\n",
       "50%          0.015000\n",
       "75%          0.018000\n",
       "max          0.149000\n",
       "Name: spread, dtype: float64"
      ]
     },
     "execution_count": 10,
     "metadata": {},
     "output_type": "execute_result"
    }
   ],
   "source": [
    "# Let's see the high and low value for spread\n",
    "df['spread'].describe()"
   ]
  },
  {
   "cell_type": "code",
   "execution_count": 58,
   "id": "4e6540fd",
   "metadata": {},
   "outputs": [],
   "source": [
    "# Function for identifying the candle as hammar\n",
    "def check_for_hammer(row, df):\n",
    "    \"\"\"\n",
    "    row: row is the current candle\n",
    "    df: Data frame contain of last 200 candles, I have to check for the last one to check if it is hammer or not.\n",
    "    If last candle is hammer, then I check for other conditions.\n",
    "    The last 10 days MA should be above and 200 MA should be below.\n",
    "    \"\"\"\n",
    "\n",
    "    close_price = row['mid_c']\n",
    "    open_price = row['mid_o']\n",
    "    high_price = row['mid_h']\n",
    "    low_price = row['mid_l']\n",
    "\n",
    "    min_body_ratio = 0.15\n",
    "    shadow_to_body_ratio = 2\n",
    "    upper_shadow_ratio = 0.1\n",
    "\n",
    "\n",
    "    # Check if the candle is green (close > open)\n",
    "    # if close_price <= open_price:\n",
    "    #     return NONE\n",
    "\n",
    "    # Calculate the real body and shadows\n",
    "    real_body = abs(close_price - open_price)\n",
    "    lower_shadow = open_price - low_price\n",
    "    upper_shadow = high_price - close_price\n",
    "    total_range = high_price - low_price\n",
    "    \n",
    "    if total_range == 0 or real_body == 0:  # Avoid division by zero\n",
    "        return NONE\n",
    "    if real_body / total_range > min_body_ratio:\n",
    "        return NONE\n",
    "\n",
    "    # Check if the lower shadow is at least shadow_to_body_ratio times the real body\n",
    "    if lower_shadow / real_body < shadow_to_body_ratio:\n",
    "        return NONE\n",
    "\n",
    "    # Check if the upper shadow is negligible\n",
    "    if upper_shadow / total_range > upper_shadow_ratio:\n",
    "        return NONE\n",
    "\n",
    "    # Check if the last 10 days MA is greater than the current price\n",
    "    if df.iloc[-10:]['mid_c'].mean() < close_price:\n",
    "        return NONE\n",
    "\n",
    "    # Check if the last 200 days MA is less than the current price\n",
    "    if df.iloc[-200:]['mid_c'].mean() > close_price:\n",
    "        return NONE\n",
    "\n",
    "    return BUY"
   ]
  },
  {
   "cell_type": "code",
   "execution_count": 59,
   "id": "7563b242",
   "metadata": {},
   "outputs": [],
   "source": [
    "def apply_hammer_check(df):\n",
    "    \"\"\"\n",
    "    Apply the hammer check function to the DataFrame.\n",
    "\n",
    "    Parameters:\n",
    "        df: DataFrame containing the candle data (at least 200 rows).\n",
    "\n",
    "    Returns:\n",
    "        A new DataFrame with a 'Signal' column indicating BUY or None.\n",
    "    \"\"\"\n",
    "    signals = []\n",
    "    for i in range(200, len(df)):  # Start from the 200th row to ensure 200 rows of history\n",
    "        current_row = df.iloc[i]\n",
    "        sub_df = df.iloc[i - 200:i]  # Last 200 rows\n",
    "        signal = check_for_hammer(current_row, sub_df)\n",
    "        signals.append(signal)\n",
    "\n",
    "    # Fill the first 200 rows with None, as they lack sufficient historical data\n",
    "    signals = [None] * 200 + signals\n",
    "    df['Signal'] = signals\n",
    "    return df\n"
   ]
  },
  {
   "cell_type": "code",
   "execution_count": 60,
   "id": "ac274052",
   "metadata": {},
   "outputs": [],
   "source": [
    "\n",
    "# Example usage:\n",
    "df = apply_hammer_check(df)\n"
   ]
  },
  {
   "cell_type": "code",
   "execution_count": 61,
   "id": "16ec4fe9",
   "metadata": {},
   "outputs": [
    {
     "data": {
      "text/plain": [
       "(57, 8)"
      ]
     },
     "execution_count": 61,
     "metadata": {},
     "output_type": "execute_result"
    }
   ],
   "source": [
    "df[df['Signal'] == BUY].shape"
   ]
  },
  {
   "cell_type": "code",
   "execution_count": 62,
   "id": "67de30d9",
   "metadata": {},
   "outputs": [
    {
     "data": {
      "application/vnd.plotly.v1+json": {
       "config": {
        "plotlyServerURL": "https://plot.ly"
       },
       "data": [
        {
         "close": [
          108.441,
          108.206,
          108.228,
          108.153,
          108.117,
          108.109,
          108.132,
          108.092,
          108.198,
          108.146,
          108.156,
          108.094,
          108.101,
          108.196,
          108.174,
          108.324,
          108.222,
          108.186,
          108.216,
          108.202
         ],
         "decreasing": {
          "fillcolor": "#CC2E3C",
          "line": {
           "color": "#FF3A4C"
          }
         },
         "high": [
          108.483,
          108.447,
          108.26,
          108.236,
          108.155,
          108.128,
          108.144,
          108.182,
          108.221,
          108.2,
          108.162,
          108.157,
          108.16,
          108.242,
          108.225,
          108.359,
          108.352,
          108.246,
          108.26,
          108.243
         ],
         "increasing": {
          "fillcolor": "#24A06B",
          "line": {
           "color": "#2EC886"
          }
         },
         "line": {
          "width": 1
         },
         "low": [
          108.424,
          108.17,
          108.171,
          108.062,
          108.105,
          108.084,
          108.044,
          108.057,
          108.09,
          108.104,
          108.074,
          107.986,
          108.042,
          108.05,
          108.076,
          108.172,
          108.21,
          108.16,
          108.172,
          108.162
         ],
         "opacity": 1,
         "open": [
          108.456,
          108.439,
          108.208,
          108.23,
          108.155,
          108.114,
          108.107,
          108.134,
          108.096,
          108.2,
          108.144,
          108.154,
          108.096,
          108.103,
          108.198,
          108.177,
          108.322,
          108.224,
          108.188,
          108.213
         ],
         "type": "candlestick",
         "x": [
          "s19-01-14 00:00",
          "s19-01-14 01:00",
          "s19-01-14 02:00",
          "s19-01-14 03:00",
          "s19-01-14 04:00",
          "s19-01-14 05:00",
          "s19-01-14 06:00",
          "s19-01-14 07:00",
          "s19-01-14 08:00",
          "s19-01-14 09:00",
          "s19-01-14 10:00",
          "s19-01-14 11:00",
          "s19-01-14 12:00",
          "s19-01-14 13:00",
          "s19-01-14 14:00",
          "s19-01-14 15:00",
          "s19-01-14 16:00",
          "s19-01-14 17:00",
          "s19-01-14 18:00",
          "s19-01-14 19:00"
         ]
        }
       ],
       "layout": {
        "font": {
         "color": "#e1e1e1",
         "size": 8
        },
        "height": 400,
        "margin": {
         "b": 10,
         "l": 10,
         "r": 10,
         "t": 10
        },
        "paper_bgcolor": "#2c303c",
        "plot_bgcolor": "#2c303c",
        "template": {
         "data": {
          "bar": [
           {
            "error_x": {
             "color": "#2a3f5f"
            },
            "error_y": {
             "color": "#2a3f5f"
            },
            "marker": {
             "line": {
              "color": "#E5ECF6",
              "width": 0.5
             },
             "pattern": {
              "fillmode": "overlay",
              "size": 10,
              "solidity": 0.2
             }
            },
            "type": "bar"
           }
          ],
          "barpolar": [
           {
            "marker": {
             "line": {
              "color": "#E5ECF6",
              "width": 0.5
             },
             "pattern": {
              "fillmode": "overlay",
              "size": 10,
              "solidity": 0.2
             }
            },
            "type": "barpolar"
           }
          ],
          "carpet": [
           {
            "aaxis": {
             "endlinecolor": "#2a3f5f",
             "gridcolor": "white",
             "linecolor": "white",
             "minorgridcolor": "white",
             "startlinecolor": "#2a3f5f"
            },
            "baxis": {
             "endlinecolor": "#2a3f5f",
             "gridcolor": "white",
             "linecolor": "white",
             "minorgridcolor": "white",
             "startlinecolor": "#2a3f5f"
            },
            "type": "carpet"
           }
          ],
          "choropleth": [
           {
            "colorbar": {
             "outlinewidth": 0,
             "ticks": ""
            },
            "type": "choropleth"
           }
          ],
          "contour": [
           {
            "colorbar": {
             "outlinewidth": 0,
             "ticks": ""
            },
            "colorscale": [
             [
              0,
              "#0d0887"
             ],
             [
              0.1111111111111111,
              "#46039f"
             ],
             [
              0.2222222222222222,
              "#7201a8"
             ],
             [
              0.3333333333333333,
              "#9c179e"
             ],
             [
              0.4444444444444444,
              "#bd3786"
             ],
             [
              0.5555555555555556,
              "#d8576b"
             ],
             [
              0.6666666666666666,
              "#ed7953"
             ],
             [
              0.7777777777777778,
              "#fb9f3a"
             ],
             [
              0.8888888888888888,
              "#fdca26"
             ],
             [
              1,
              "#f0f921"
             ]
            ],
            "type": "contour"
           }
          ],
          "contourcarpet": [
           {
            "colorbar": {
             "outlinewidth": 0,
             "ticks": ""
            },
            "type": "contourcarpet"
           }
          ],
          "heatmap": [
           {
            "colorbar": {
             "outlinewidth": 0,
             "ticks": ""
            },
            "colorscale": [
             [
              0,
              "#0d0887"
             ],
             [
              0.1111111111111111,
              "#46039f"
             ],
             [
              0.2222222222222222,
              "#7201a8"
             ],
             [
              0.3333333333333333,
              "#9c179e"
             ],
             [
              0.4444444444444444,
              "#bd3786"
             ],
             [
              0.5555555555555556,
              "#d8576b"
             ],
             [
              0.6666666666666666,
              "#ed7953"
             ],
             [
              0.7777777777777778,
              "#fb9f3a"
             ],
             [
              0.8888888888888888,
              "#fdca26"
             ],
             [
              1,
              "#f0f921"
             ]
            ],
            "type": "heatmap"
           }
          ],
          "heatmapgl": [
           {
            "colorbar": {
             "outlinewidth": 0,
             "ticks": ""
            },
            "colorscale": [
             [
              0,
              "#0d0887"
             ],
             [
              0.1111111111111111,
              "#46039f"
             ],
             [
              0.2222222222222222,
              "#7201a8"
             ],
             [
              0.3333333333333333,
              "#9c179e"
             ],
             [
              0.4444444444444444,
              "#bd3786"
             ],
             [
              0.5555555555555556,
              "#d8576b"
             ],
             [
              0.6666666666666666,
              "#ed7953"
             ],
             [
              0.7777777777777778,
              "#fb9f3a"
             ],
             [
              0.8888888888888888,
              "#fdca26"
             ],
             [
              1,
              "#f0f921"
             ]
            ],
            "type": "heatmapgl"
           }
          ],
          "histogram": [
           {
            "marker": {
             "pattern": {
              "fillmode": "overlay",
              "size": 10,
              "solidity": 0.2
             }
            },
            "type": "histogram"
           }
          ],
          "histogram2d": [
           {
            "colorbar": {
             "outlinewidth": 0,
             "ticks": ""
            },
            "colorscale": [
             [
              0,
              "#0d0887"
             ],
             [
              0.1111111111111111,
              "#46039f"
             ],
             [
              0.2222222222222222,
              "#7201a8"
             ],
             [
              0.3333333333333333,
              "#9c179e"
             ],
             [
              0.4444444444444444,
              "#bd3786"
             ],
             [
              0.5555555555555556,
              "#d8576b"
             ],
             [
              0.6666666666666666,
              "#ed7953"
             ],
             [
              0.7777777777777778,
              "#fb9f3a"
             ],
             [
              0.8888888888888888,
              "#fdca26"
             ],
             [
              1,
              "#f0f921"
             ]
            ],
            "type": "histogram2d"
           }
          ],
          "histogram2dcontour": [
           {
            "colorbar": {
             "outlinewidth": 0,
             "ticks": ""
            },
            "colorscale": [
             [
              0,
              "#0d0887"
             ],
             [
              0.1111111111111111,
              "#46039f"
             ],
             [
              0.2222222222222222,
              "#7201a8"
             ],
             [
              0.3333333333333333,
              "#9c179e"
             ],
             [
              0.4444444444444444,
              "#bd3786"
             ],
             [
              0.5555555555555556,
              "#d8576b"
             ],
             [
              0.6666666666666666,
              "#ed7953"
             ],
             [
              0.7777777777777778,
              "#fb9f3a"
             ],
             [
              0.8888888888888888,
              "#fdca26"
             ],
             [
              1,
              "#f0f921"
             ]
            ],
            "type": "histogram2dcontour"
           }
          ],
          "mesh3d": [
           {
            "colorbar": {
             "outlinewidth": 0,
             "ticks": ""
            },
            "type": "mesh3d"
           }
          ],
          "parcoords": [
           {
            "line": {
             "colorbar": {
              "outlinewidth": 0,
              "ticks": ""
             }
            },
            "type": "parcoords"
           }
          ],
          "pie": [
           {
            "automargin": true,
            "type": "pie"
           }
          ],
          "scatter": [
           {
            "fillpattern": {
             "fillmode": "overlay",
             "size": 10,
             "solidity": 0.2
            },
            "type": "scatter"
           }
          ],
          "scatter3d": [
           {
            "line": {
             "colorbar": {
              "outlinewidth": 0,
              "ticks": ""
             }
            },
            "marker": {
             "colorbar": {
              "outlinewidth": 0,
              "ticks": ""
             }
            },
            "type": "scatter3d"
           }
          ],
          "scattercarpet": [
           {
            "marker": {
             "colorbar": {
              "outlinewidth": 0,
              "ticks": ""
             }
            },
            "type": "scattercarpet"
           }
          ],
          "scattergeo": [
           {
            "marker": {
             "colorbar": {
              "outlinewidth": 0,
              "ticks": ""
             }
            },
            "type": "scattergeo"
           }
          ],
          "scattergl": [
           {
            "marker": {
             "colorbar": {
              "outlinewidth": 0,
              "ticks": ""
             }
            },
            "type": "scattergl"
           }
          ],
          "scattermapbox": [
           {
            "marker": {
             "colorbar": {
              "outlinewidth": 0,
              "ticks": ""
             }
            },
            "type": "scattermapbox"
           }
          ],
          "scatterpolar": [
           {
            "marker": {
             "colorbar": {
              "outlinewidth": 0,
              "ticks": ""
             }
            },
            "type": "scatterpolar"
           }
          ],
          "scatterpolargl": [
           {
            "marker": {
             "colorbar": {
              "outlinewidth": 0,
              "ticks": ""
             }
            },
            "type": "scatterpolargl"
           }
          ],
          "scatterternary": [
           {
            "marker": {
             "colorbar": {
              "outlinewidth": 0,
              "ticks": ""
             }
            },
            "type": "scatterternary"
           }
          ],
          "surface": [
           {
            "colorbar": {
             "outlinewidth": 0,
             "ticks": ""
            },
            "colorscale": [
             [
              0,
              "#0d0887"
             ],
             [
              0.1111111111111111,
              "#46039f"
             ],
             [
              0.2222222222222222,
              "#7201a8"
             ],
             [
              0.3333333333333333,
              "#9c179e"
             ],
             [
              0.4444444444444444,
              "#bd3786"
             ],
             [
              0.5555555555555556,
              "#d8576b"
             ],
             [
              0.6666666666666666,
              "#ed7953"
             ],
             [
              0.7777777777777778,
              "#fb9f3a"
             ],
             [
              0.8888888888888888,
              "#fdca26"
             ],
             [
              1,
              "#f0f921"
             ]
            ],
            "type": "surface"
           }
          ],
          "table": [
           {
            "cells": {
             "fill": {
              "color": "#EBF0F8"
             },
             "line": {
              "color": "white"
             }
            },
            "header": {
             "fill": {
              "color": "#C8D4E3"
             },
             "line": {
              "color": "white"
             }
            },
            "type": "table"
           }
          ]
         },
         "layout": {
          "annotationdefaults": {
           "arrowcolor": "#2a3f5f",
           "arrowhead": 0,
           "arrowwidth": 1
          },
          "autotypenumbers": "strict",
          "coloraxis": {
           "colorbar": {
            "outlinewidth": 0,
            "ticks": ""
           }
          },
          "colorscale": {
           "diverging": [
            [
             0,
             "#8e0152"
            ],
            [
             0.1,
             "#c51b7d"
            ],
            [
             0.2,
             "#de77ae"
            ],
            [
             0.3,
             "#f1b6da"
            ],
            [
             0.4,
             "#fde0ef"
            ],
            [
             0.5,
             "#f7f7f7"
            ],
            [
             0.6,
             "#e6f5d0"
            ],
            [
             0.7,
             "#b8e186"
            ],
            [
             0.8,
             "#7fbc41"
            ],
            [
             0.9,
             "#4d9221"
            ],
            [
             1,
             "#276419"
            ]
           ],
           "sequential": [
            [
             0,
             "#0d0887"
            ],
            [
             0.1111111111111111,
             "#46039f"
            ],
            [
             0.2222222222222222,
             "#7201a8"
            ],
            [
             0.3333333333333333,
             "#9c179e"
            ],
            [
             0.4444444444444444,
             "#bd3786"
            ],
            [
             0.5555555555555556,
             "#d8576b"
            ],
            [
             0.6666666666666666,
             "#ed7953"
            ],
            [
             0.7777777777777778,
             "#fb9f3a"
            ],
            [
             0.8888888888888888,
             "#fdca26"
            ],
            [
             1,
             "#f0f921"
            ]
           ],
           "sequentialminus": [
            [
             0,
             "#0d0887"
            ],
            [
             0.1111111111111111,
             "#46039f"
            ],
            [
             0.2222222222222222,
             "#7201a8"
            ],
            [
             0.3333333333333333,
             "#9c179e"
            ],
            [
             0.4444444444444444,
             "#bd3786"
            ],
            [
             0.5555555555555556,
             "#d8576b"
            ],
            [
             0.6666666666666666,
             "#ed7953"
            ],
            [
             0.7777777777777778,
             "#fb9f3a"
            ],
            [
             0.8888888888888888,
             "#fdca26"
            ],
            [
             1,
             "#f0f921"
            ]
           ]
          },
          "colorway": [
           "#636efa",
           "#EF553B",
           "#00cc96",
           "#ab63fa",
           "#FFA15A",
           "#19d3f3",
           "#FF6692",
           "#B6E880",
           "#FF97FF",
           "#FECB52"
          ],
          "font": {
           "color": "#2a3f5f"
          },
          "geo": {
           "bgcolor": "white",
           "lakecolor": "white",
           "landcolor": "#E5ECF6",
           "showlakes": true,
           "showland": true,
           "subunitcolor": "white"
          },
          "hoverlabel": {
           "align": "left"
          },
          "hovermode": "closest",
          "mapbox": {
           "style": "light"
          },
          "paper_bgcolor": "white",
          "plot_bgcolor": "#E5ECF6",
          "polar": {
           "angularaxis": {
            "gridcolor": "white",
            "linecolor": "white",
            "ticks": ""
           },
           "bgcolor": "#E5ECF6",
           "radialaxis": {
            "gridcolor": "white",
            "linecolor": "white",
            "ticks": ""
           }
          },
          "scene": {
           "xaxis": {
            "backgroundcolor": "#E5ECF6",
            "gridcolor": "white",
            "gridwidth": 2,
            "linecolor": "white",
            "showbackground": true,
            "ticks": "",
            "zerolinecolor": "white"
           },
           "yaxis": {
            "backgroundcolor": "#E5ECF6",
            "gridcolor": "white",
            "gridwidth": 2,
            "linecolor": "white",
            "showbackground": true,
            "ticks": "",
            "zerolinecolor": "white"
           },
           "zaxis": {
            "backgroundcolor": "#E5ECF6",
            "gridcolor": "white",
            "gridwidth": 2,
            "linecolor": "white",
            "showbackground": true,
            "ticks": "",
            "zerolinecolor": "white"
           }
          },
          "shapedefaults": {
           "line": {
            "color": "#2a3f5f"
           }
          },
          "ternary": {
           "aaxis": {
            "gridcolor": "white",
            "linecolor": "white",
            "ticks": ""
           },
           "baxis": {
            "gridcolor": "white",
            "linecolor": "white",
            "ticks": ""
           },
           "bgcolor": "#E5ECF6",
           "caxis": {
            "gridcolor": "white",
            "linecolor": "white",
            "ticks": ""
           }
          },
          "title": {
           "x": 0.05
          },
          "xaxis": {
           "automargin": true,
           "gridcolor": "white",
           "linecolor": "white",
           "ticks": "",
           "title": {
            "standoff": 15
           },
           "zerolinecolor": "white",
           "zerolinewidth": 2
          },
          "yaxis": {
           "automargin": true,
           "gridcolor": "white",
           "linecolor": "white",
           "ticks": "",
           "title": {
            "standoff": 15
           },
           "zerolinecolor": "white",
           "zerolinewidth": 2
          }
         }
        },
        "width": 900,
        "xaxis": {
         "anchor": "y",
         "domain": [
          0,
          0.94
         ],
         "gridcolor": "#1f292f",
         "nticks": 5,
         "rangeslider": {
          "visible": false
         }
        },
        "yaxis": {
         "anchor": "x",
         "domain": [
          0,
          1
         ],
         "gridcolor": "#1f292f"
        },
        "yaxis2": {
         "anchor": "x",
         "gridcolor": "#1f292f",
         "overlaying": "y",
         "side": "right"
        }
       }
      }
     },
     "metadata": {},
     "output_type": "display_data"
    }
   ],
   "source": [
    "cp = CandlePlot(df.iloc[194:214])\n",
    "cp.show_plot()"
   ]
  },
  {
   "cell_type": "code",
   "execution_count": null,
   "id": "4bdac1fc",
   "metadata": {},
   "outputs": [],
   "source": []
  },
  {
   "cell_type": "code",
   "execution_count": null,
   "id": "cdc4b532",
   "metadata": {},
   "outputs": [],
   "source": []
  }
 ],
 "metadata": {
  "kernelspec": {
   "display_name": "forexenv",
   "language": "python",
   "name": "python3"
  },
  "language_info": {
   "codemirror_mode": {
    "name": "ipython",
    "version": 3
   },
   "file_extension": ".py",
   "mimetype": "text/x-python",
   "name": "python",
   "nbconvert_exporter": "python",
   "pygments_lexer": "ipython3",
   "version": "3.12.3"
  }
 },
 "nbformat": 4,
 "nbformat_minor": 5
}
